{
 "cells": [
  {
   "cell_type": "markdown",
   "metadata": {},
   "source": [
    "# Grenade Problem v3.2\n",
    "\n",
    "Widgets for time of explosion and change in velocity of components\n",
    "\n",
    "Wesley Terrill {Revised 01-23-2019}"
   ]
  },
  {
   "cell_type": "markdown",
   "metadata": {},
   "source": [
    "Begin by adding features from libraries"
   ]
  },
  {
   "cell_type": "code",
   "execution_count": 1,
   "metadata": {},
   "outputs": [],
   "source": [
    "%matplotlib inline"
   ]
  },
  {
   "cell_type": "code",
   "execution_count": 2,
   "metadata": {},
   "outputs": [],
   "source": [
    "import numpy as np\n",
    "import matplotlib.pyplot as plt\n",
    "import matplotlib as mpl\n",
    "from mpl_toolkits.mplot3d import Axes3D #imports 3d plot features\n",
    "\n",
    "import ipywidgets as widgets\n",
    "from ipywidgets import HBox, VBox, Layout, Tab, Label, Checkbox\n",
    "from ipywidgets import FloatSlider, IntSlider, Play, Dropdown, HTMLMath \n",
    "from ipywidgets import interact, fixed\n",
    "\n",
    "from IPython.display import display\n",
    "from time import sleep"
   ]
  },
  {
   "cell_type": "markdown",
   "metadata": {},
   "source": [
    "Initial velocity of grenade is\n",
    "\n",
    "$v(t)=(4,0,4)$\n",
    "\n",
    "Initial position at origin"
   ]
  },
  {
   "cell_type": "markdown",
   "metadata": {},
   "source": [
    "General trajectories of components 3-vector position\n",
    "\n",
    "$x(t) = x_0 + v_{0x} t + \\frac{a t^2}{2}$ \n",
    "\n",
    "$y(t) = y_0 + v_{0y} t + \\frac{a t^2}{2}$\n",
    "\n",
    "$z(t) = z_0 + v_{0z} t - \\frac{g t^2}{2}$"
   ]
  },
  {
   "cell_type": "markdown",
   "metadata": {},
   "source": [
    "Create class with terms to find trajectory and velocity at given time t"
   ]
  },
  {
   "cell_type": "code",
   "execution_count": 3,
   "metadata": {},
   "outputs": [],
   "source": [
    "#attempt to create class on position\n",
    "class position:\n",
    "    def __init__(self, \n",
    "                 v_0 = 4.,\n",
    "                 x_0 = 0.,\n",
    "                 a_x = 0.):\n",
    "        \n",
    "        self.v = v_0\n",
    "        self.x = x_0\n",
    "        self.a = a_x\n",
    "    \n",
    "    def traj(self,t):\n",
    "        \"\"\"\n",
    "        Horizontal position of grenade\n",
    "        \"\"\"\n",
    "        return self.v * t + self.x + self.a / 2 * t**2\n",
    "    \n",
    "    def v_traj(self, t):\n",
    "        \"\"\"\n",
    "        returns velocity at time t\n",
    "        \"\"\"\n",
    "        return self.v + self.a * t\n",
    "    "
   ]
  },
  {
   "cell_type": "markdown",
   "metadata": {},
   "source": [
    "Create class for finding 'initial conditions' of trajectory"
   ]
  },
  {
   "cell_type": "code",
   "execution_count": 4,
   "metadata": {},
   "outputs": [],
   "source": [
    "class find_initial_conditions:\n",
    "    def __init__(self, \n",
    "                 vx=0.,\n",
    "                 dvx = 0.,\n",
    "                 x1 = 0.,\n",
    "                 ax = 0.):\n",
    "        \n",
    "        self.v = vx + dvx\n",
    "        self.x = x1\n",
    "        self.a = ax\n",
    "\n",
    "    def initial_v(self, t=0.):\n",
    "        \"\"\"\n",
    "        initial velocity given known values\n",
    "        \"\"\"\n",
    "        return self.v - self.a * t\n",
    "    \n",
    "    def x_0(self, tm, v0=0.):\n",
    "        \"\"\"\n",
    "        initial position givem known values\n",
    "        \"\"\"\n",
    "        return self.x - v0 * tm - self.a / 2 * tm**2\n",
    "    "
   ]
  },
  {
   "cell_type": "markdown",
   "metadata": {},
   "source": [
    "Create definitions for creating time array's for before and after explosion"
   ]
  },
  {
   "cell_type": "code",
   "execution_count": 5,
   "metadata": {},
   "outputs": [],
   "source": [
    "def t_before(t_exp):\n",
    "    \"\"\"creates time points before explosion\"\"\"\n",
    "    return np.arange(0., t_exp+.1, 1.) # +.1 to get up to t_exp in array\n",
    "\n",
    "def t_after(t_exp):\n",
    "    \"\"\"creates time points after explosion\"\"\"\n",
    "    return np.arange(t_exp, 9.1, 1.)"
   ]
  },
  {
   "cell_type": "markdown",
   "metadata": {},
   "source": [
    "Creating plotting Definition"
   ]
  },
  {
   "cell_type": "code",
   "execution_count": 6,
   "metadata": {},
   "outputs": [],
   "source": [
    "def plot_trajectories(dv_x=1.,dv_y=0.,dv_z=3.,t_explode=4.):\n",
    "    #to plot point locations at specific time t\n",
    "    tb = t_before(t_explode)\n",
    "    ta = t_after(t_explode)\n",
    "\n",
    "    ### Create inital trajectory of grenade ###\n",
    "### Includes Information about grenade at time of explosion ###\n",
    "    x_def = position(v_0 = 4.)\n",
    "    x = x_def.traj(t = tb)\n",
    "    vx = x_def.v_traj(t = t_explode)\n",
    "    x_ex = x_def.traj(t = t_explode)\n",
    "    xa = x_def.traj(t = ta)\n",
    "    \n",
    "    y_def = position(v_0 = 0.)\n",
    "    y = y_def.traj(t = tb)\n",
    "    vy = y_def.v_traj(t = t_explode)\n",
    "    y_ex = y_def.traj(t = t_explode)\n",
    "    ya = y_def.traj(t = ta)\n",
    "    \n",
    "    z_def = position(v_0 = 4., a_x = -1.)\n",
    "    z = z_def.traj(t = tb)\n",
    "    vz = z_def.v_traj(t = t_explode)\n",
    "    z_ex = z_def.traj(t = t_explode)\n",
    "    za = z_def.traj(t = ta)\n",
    "    \n",
    "    ### Create trajectories for pieces ###\n",
    "        ### Piece one ###\n",
    "    x1_initial = find_initial_conditions(vx=vx, dvx=dv_x, x1=x_ex)\n",
    "    v_0x1 = x1_initial.initial_v(t = t_explode)\n",
    "    x_01 = x1_initial.x_0(v0 = v_0x1, tm = t_explode)\n",
    "    x1_def = position(x_0 = x_01, v_0 = v_0x1)\n",
    "    x1 = x1_def.traj(t = ta)\n",
    "    \n",
    "    y1_initial = find_initial_conditions(vx=vy, dvx=dv_y, x1=y_ex)\n",
    "    v_0y1 = y1_initial.initial_v(t=t_explode)\n",
    "    y_01 = y1_initial.x_0(v0 = v_0y1, tm = t_explode)\n",
    "    y1_def = position(v_0 = v_0y1, x_0 = y_01)\n",
    "    y1 = y1_def.traj(t = ta)\n",
    "    \n",
    "    z1_initial = find_initial_conditions(vx=vz, dvx=dv_z, x1=z_ex, ax=-1.)\n",
    "    v_0z1 = z1_initial.initial_v(t=t_explode)\n",
    "    z_01 = z1_initial.x_0(v0 = v_0z1, tm = t_explode)\n",
    "    z1_def = position(v_0 = v_0z1, x_0 = z_01, a_x = -1.)\n",
    "    z1 = z1_def.traj(t = ta)\n",
    "    \n",
    "    ### Piece two ###\n",
    "    x2_initial = find_initial_conditions(vx=vx, dvx=-dv_x, x1=x_ex)\n",
    "    v_0x2 = x2_initial.initial_v(t = t_explode)\n",
    "    x_02 = x2_initial.x_0(v0 = v_0x2, tm = t_explode)\n",
    "    x2_def = position(x_0 = x_02, v_0 = v_0x2)\n",
    "    x2 = x2_def.traj(t = ta)\n",
    "    \n",
    "    y2_initial = find_initial_conditions(vx=vy, dvx=-dv_y, x1=y_ex)\n",
    "    v_0y2 = y2_initial.initial_v(t=t_explode)\n",
    "    y_02 = y2_initial.x_0(v0 = v_0y2, tm = t_explode)\n",
    "    y2_def = position(v_0 = v_0y2, x_0 = y_02)\n",
    "    y2 = y2_def.traj(t = ta)\n",
    "    \n",
    "    z2_initial = find_initial_conditions(vx=vz, dvx=-dv_z, x1=z_ex, ax=-1.)\n",
    "    v_0z2 = z2_initial.initial_v(t=t_explode)\n",
    "    z_02 = z2_initial.x_0(v0 = v_0z2, tm = t_explode)\n",
    "    z2_def = position(v_0 = v_0z2, x_0 = z_02, a_x = -1.)\n",
    "    z2 = z2_def.traj(t = ta)\n",
    "\n",
    "\n",
    "    mpl.rcParams.update({'font.size':16})\n",
    "    fig = plt.figure(figsize=(15,15))\n",
    "    ax = fig.gca(projection='3d')\n",
    "    \n",
    "    ax.plot(x, y, z,\n",
    "            'ro-', #grenade before explosion trajectory\n",
    "            label=r'initial trajectory');\n",
    "    \n",
    "    #ax.plot(xa, ya, za,\n",
    "     #       'ko-', #CM\n",
    "      #      label=r'initial trajectory post');\n",
    "\n",
    "\n",
    "    ax.plot(x1, y1, z1, 'mo-', #grenade piece one trajectory\n",
    "            label=r'piece one after explosion')  \n",
    "\n",
    "    ax.plot(x2, y2, z2,'co-', #grenade piece two trajectory\n",
    "            label=r'piece two after explosion')\n",
    "    \n",
    "    ax.plot(.5*(x1+x2),#center of mass trajectory after explosion\n",
    "            .5*(y1+y2),\n",
    "            .5*(z1+z2),\n",
    "            'r:o', label=r'Center of Mass Trajectory');\n",
    "    \n",
    "    for i in range(len(ta)):\n",
    "        ax.plot([x1[i], x2[i]],\n",
    "                [y1[i], y2[i]],\n",
    "                [z1[i], z2[i]],\n",
    "                'k--'\n",
    "               ) \n",
    "    \n",
    "    ax.set_xlabel('x(t)')\n",
    "    ax.set_ylabel('y(t)')\n",
    "    ax.set_zlabel('z(t)')\n",
    "    ax.set_ylim(-10,10)\n",
    "    ax.legend(loc='lower right');\n",
    "    ax.set_aspect('equal');\n",
    "    \n",
    "    #for angle in range(0,360):\n",
    "    #    ax.view_init(30,angle)\n",
    "    #    plt.draw()\n",
    "    #    plt.pause(.001)\n",
    "    \n"
   ]
  },
  {
   "cell_type": "markdown",
   "metadata": {},
   "source": [
    "Create Plot with widgets in 3D"
   ]
  },
  {
   "cell_type": "code",
   "execution_count": 7,
   "metadata": {
    "scrolled": false
   },
   "outputs": [
    {
     "data": {
      "application/vnd.jupyter.widget-view+json": {
       "model_id": "d8b9513f058041dfac3d44cd51a733e6",
       "version_major": 2,
       "version_minor": 0
      },
      "text/plain": [
       "interactive(children=(FloatSlider(value=1.0, continuous_update=False, description='$dv_x$', max=10.0, min=-1.0…"
      ]
     },
     "metadata": {},
     "output_type": "display_data"
    }
   ],
   "source": [
    "traj_widget_x = widgets.FloatSlider(min=-1., max=10.0, step=0.1, value=1.,\n",
    "                                     description=r'$dv_x$',\n",
    "                                     readout_format='.2f',\n",
    "                                     continuous_update=False\n",
    "                                  )\n",
    "\n",
    "traj_widget_y = widgets.FloatSlider(min=-1., max=10.0, step=0.1, value=0.,\n",
    "                                     description=r'$dv_y$',\n",
    "                                     readout_format='.2f',\n",
    "                                     continuous_update=False\n",
    "                                  )\n",
    "\n",
    "traj_widget_z = widgets.FloatSlider(min=-1., max=10.0, step=0.1, value=3.,\n",
    "                                     description=r'$dv_z$',\n",
    "                                     readout_format='.2f',\n",
    "                                     continuous_update=False\n",
    "                                  )\n",
    "\n",
    "time_explode_widget = widgets.FloatSlider(min = 0., max = 7., step = 1., value=4.,\n",
    "                                    description=r'$t_{explode}$',\n",
    "                                    readout_format='.2f',\n",
    "                                    continuous_update=False\n",
    "                                  )\n",
    "\n",
    "interact(plot_trajectories,dv_x=traj_widget_x,\n",
    "         dv_y=traj_widget_y,\n",
    "         dv_z=traj_widget_z,\n",
    "         t_explode=time_explode_widget);\n"
   ]
  },
  {
   "cell_type": "code",
   "execution_count": null,
   "metadata": {},
   "outputs": [],
   "source": []
  }
 ],
 "metadata": {
  "kernelspec": {
   "display_name": "Python 3",
   "language": "python",
   "name": "python3"
  },
  "language_info": {
   "codemirror_mode": {
    "name": "ipython",
    "version": 3
   },
   "file_extension": ".py",
   "mimetype": "text/x-python",
   "name": "python",
   "nbconvert_exporter": "python",
   "pygments_lexer": "ipython3",
   "version": "3.7.1"
  }
 },
 "nbformat": 4,
 "nbformat_minor": 2
}
